{
 "cells": [
  {
   "cell_type": "code",
   "execution_count": 3,
   "id": "aa32044e",
   "metadata": {
    "tags": []
   },
   "outputs": [],
   "source": [
    "import pandas as pd\n",
    "import numpy as np"
   ]
  },
  {
   "cell_type": "code",
   "execution_count": 4,
   "id": "50007a85",
   "metadata": {
    "tags": []
   },
   "outputs": [],
   "source": [
    "df_hosp = pd.read_excel('HospitalDatabase.xlsx',sheet_name = None)"
   ]
  },
  {
   "cell_type": "markdown",
   "id": "09b00857",
   "metadata": {},
   "source": [
    "# 21. Find reasonForVisit with highest count of acuity 5 patients."
   ]
  },
  {
   "cell_type": "code",
   "execution_count": 5,
   "id": "65fdbf6a",
   "metadata": {
    "tags": []
   },
   "outputs": [
    {
     "name": "stdout",
     "output_type": "stream",
     "text": [
      "Chest Pain with 61 visits.\n"
     ]
    }
   ],
   "source": [
    "filtered_df_hosp = df_hosp['EDVisits'].query(\"Acuity == 5\")\n",
    "print(filtered_df_hosp['ReasonForVisit'].value_counts().idxmax() + ' with ' + str(filtered_df_hosp['ReasonForVisit'].value_counts().max()) + ' visits.')"
   ]
  },
  {
   "cell_type": "markdown",
   "id": "f9a8f086-6d74-40f6-9a6e-b06e13690a27",
   "metadata": {},
   "source": [
    "# 22. Find the visit type with maximum 'No Show'."
   ]
  },
  {
   "cell_type": "code",
   "execution_count": 16,
   "id": "af13bdc7-eb23-4e7a-8142-7c4b14207229",
   "metadata": {
    "tags": []
   },
   "outputs": [
    {
     "name": "stdout",
     "output_type": "stream",
     "text": [
      "Telemedicine with 74 No Show(s).\n"
     ]
    }
   ],
   "source": [
    "filtered_df_hosp = df_hosp['AmbulatoryVisits'].query(\"VisitStatus == 'No Show'\")\n",
    "print(filtered_df_hosp['VisitType'].value_counts().idxmax() + \" with \" + str(filtered_df_hosp['VisitType'].value_counts().max()) + \" No Show(s).\")"
   ]
  },
  {
   "cell_type": "markdown",
   "id": "3a9e1b65-26f0-4f05-9deb-0f41822ca36a",
   "metadata": {},
   "source": [
    "# 23. Get the list of patient ID's which are not there in ReadmissionRegistry."
   ]
  },
  {
   "cell_type": "code",
   "execution_count": 64,
   "id": "0f45dc25-3966-46f5-a7d2-8afd745b51c3",
   "metadata": {
    "tags": []
   },
   "outputs": [
    {
     "name": "stdout",
     "output_type": "stream",
     "text": [
      "Patient IDs not in ReAdmission Registry are:\n",
      "['4 135 145 189 200 224 234 374 378 379 380 381 382 383 384 385 386 387 388 389 390 391 392 393 394 395 396 397 398 399 414 501 562 599 690 691 704 726 743 744 745 746 747 748 749 750 751 752 753 754 755 756 757 758 759 760 761 762 763 764 765 766 767 768 769 770 771 772 773 774 775 776 777 778 779 780 781 782 783 784 785 786 787 788 789 790 791 792 793 794 795 796 797 798 799 800 801 802 803 804 805 806 807 808 809 810 811 812 813 814 815 816 817 818 819 820 821 822 823 824 825 826 827 828 829 830 831 832 833 834 835 836 837 838 839 840 841 842 843 844 845 846 847 848 849 850 851 852 853 854 855 856 857 858 859 860 861 862 863 864 865 866 867 868 869 870 871 872 873 874 875 876 877 878 879 880 881 882 883 884 885 886 887 888 889 890 891 892 893 894 895 896 897 898 899 900 901 902 903 904 905 906 907 908 909 910 911 912 913 914 915 916 917 918 919 920 921 922 923 924 925 926 927 928 929 930 931 932 933 934 935 936 937 938 939 940 941 942 943 944 945']\n"
     ]
    }
   ],
   "source": [
    "filtered_df_hosp = df_hosp['Patients'][~df_hosp['Patients'].PatientID.isin(df_hosp['ReAdmissionRegistry']['PatientID'].unique())]\n",
    "print(\"Patient IDs not in ReAdmission Registry are:\")\n",
    "print([filtered_df_hosp['PatientID'].to_string(index = False).replace(\"\\n\", \" \").strip()])"
   ]
  },
  {
   "cell_type": "markdown",
   "id": "93be4421-9f3c-4915-9937-3521bf9e1d27",
   "metadata": {},
   "source": [
    "# 24. Get the number of patients based on ReasonForVisit and EDDisposition (use stack/unstack functions)."
   ]
  },
  {
   "cell_type": "code",
   "execution_count": null,
   "id": "d820de12-5eb9-44c9-8c70-597e9c92cea4",
   "metadata": {},
   "outputs": [],
   "source": []
  }
 ],
 "metadata": {
  "kernelspec": {
   "display_name": "Python 3 (ipykernel)",
   "language": "python",
   "name": "python3"
  },
  "language_info": {
   "codemirror_mode": {
    "name": "ipython",
    "version": 3
   },
   "file_extension": ".py",
   "mimetype": "text/x-python",
   "name": "python",
   "nbconvert_exporter": "python",
   "pygments_lexer": "ipython3",
   "version": "3.11.3"
  }
 },
 "nbformat": 4,
 "nbformat_minor": 5
}
