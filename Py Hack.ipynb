{
 "cells": [
  {
   "cell_type": "code",
   "execution_count": 293,
   "id": "aa32044e",
   "metadata": {
    "tags": []
   },
   "outputs": [],
   "source": [
    "import pandas as pd\n",
    "import numpy as np\n",
    "import matplotlib.pyplot as plt\n",
    "import seaborn as sns"
   ]
  },
  {
   "cell_type": "code",
   "execution_count": 294,
   "id": "50007a85",
   "metadata": {
    "tags": []
   },
   "outputs": [],
   "source": [
    "df_hosp = pd.read_excel('HospitalDatabase.xlsx',sheet_name = None)"
   ]
  },
  {
   "cell_type": "markdown",
   "id": "09b00857",
   "metadata": {},
   "source": [
    "# 21. Find reasonForVisit with highest count of acuity 5 patients."
   ]
  },
  {
   "cell_type": "code",
   "execution_count": 5,
   "id": "65fdbf6a",
   "metadata": {
    "tags": []
   },
   "outputs": [
    {
     "name": "stdout",
     "output_type": "stream",
     "text": [
      "Chest Pain with 61 visits.\n"
     ]
    }
   ],
   "source": [
    "filtered_df_hosp = df_hosp['EDVisits'].query(\"Acuity == 5\")\n",
    "print(filtered_df_hosp['ReasonForVisit'].value_counts().idxmax() + ' with ' + str(filtered_df_hosp['ReasonForVisit'].value_counts().max()) + ' visits.')"
   ]
  },
  {
   "cell_type": "markdown",
   "id": "f9a8f086-6d74-40f6-9a6e-b06e13690a27",
   "metadata": {},
   "source": [
    "# 22. Find the visit type with maximum 'No Show'."
   ]
  },
  {
   "cell_type": "code",
   "execution_count": 16,
   "id": "af13bdc7-eb23-4e7a-8142-7c4b14207229",
   "metadata": {
    "tags": []
   },
   "outputs": [
    {
     "name": "stdout",
     "output_type": "stream",
     "text": [
      "Telemedicine with 74 No Show(s).\n"
     ]
    }
   ],
   "source": [
    "filtered_df_hosp = df_hosp['AmbulatoryVisits'].query(\"VisitStatus == 'No Show'\")\n",
    "print(filtered_df_hosp['VisitType'].value_counts().idxmax() + \" with \" + str(filtered_df_hosp['VisitType'].value_counts().max()) + \" No Show(s).\")"
   ]
  },
  {
   "cell_type": "markdown",
   "id": "3a9e1b65-26f0-4f05-9deb-0f41822ca36a",
   "metadata": {},
   "source": [
    "# 23. Get the list of patient ID's which are not there in ReadmissionRegistry."
   ]
  },
  {
   "cell_type": "code",
   "execution_count": 296,
   "id": "0f45dc25-3966-46f5-a7d2-8afd745b51c3",
   "metadata": {
    "tags": []
   },
   "outputs": [
    {
     "name": "stdout",
     "output_type": "stream",
     "text": [
      "Patient IDs not in ReAdmission Registry are:\n",
      "['  4 135 145 189 200 224 234 374 378 379 380 381 382 383 384 385 386 387 388 389 390 391 392 393 394 395 396 397 398 399 414 501 562 599 690 691 704 726 743 744 745 746 747 748 749 750 751 752 753 754 755 756 757 758 759 760 761 762 763 764 765 766 767 768 769 770 771 772 773 774 775 776 777 778 779 780 781 782 783 784 785 786 787 788 789 790 791 792 793 794 795 796 797 798 799 800 801 802 803 804 805 806 807 808 809 810 811 812 813 814 815 816 817 818 819 820 821 822 823 824 825 826 827 828 829 830 831 832 833 834 835 836 837 838 839 840 841 842 843 844 845 846 847 848 849 850 851 852 853 854 855 856 857 858 859 860 861 862 863 864 865 866 867 868 869 870 871 872 873 874 875 876 877 878 879 880 881 882 883 884 885 886 887 888 889 890 891 892 893 894 895 896 897 898 899 900 901 902 903 904 905 906 907 908 909 910 911 912 913 914 915 916 917 918 919 920 921 922 923 924 925 926 927 928 929 930 931 932 933 934 935 936 937 938 939 940 941 942 943 944 945']\n"
     ]
    }
   ],
   "source": [
    "filtered_df_hosp = df_hosp['Patients'][~df_hosp['Patients'].PatientID.isin(df_hosp['ReAdmissionRegistry']['PatientID'].unique())]\n",
    "print(\"Patient IDs not in ReAdmission Registry are:\")\n",
    "print([filtered_df_hosp['PatientID'].to_string(index = False).replace(\"\\n\", \" \").strip()])"
   ]
  },
  {
   "cell_type": "markdown",
   "id": "93be4421-9f3c-4915-9937-3521bf9e1d27",
   "metadata": {},
   "source": [
    "# 24. Get the number of patients based on ReasonForVisit and EDDisposition (use stack/unstack functions)."
   ]
  },
  {
   "cell_type": "code",
   "execution_count": null,
   "id": "d820de12-5eb9-44c9-8c70-597e9c92cea4",
   "metadata": {},
   "outputs": [],
   "source": []
  },
  {
   "cell_type": "markdown",
   "id": "17492660-30fa-4731-9d90-9f0cedc4b8fe",
   "metadata": {},
   "source": [
    "# 25.Using a bar chart, which Service had the lowest count of Expected Mortality?"
   ]
  },
  {
   "cell_type": "code",
   "execution_count": 304,
   "id": "0204da1e-afb0-45ad-8f79-92fa9952de16",
   "metadata": {
    "tags": []
   },
   "outputs": [
    {
     "data": {
      "text/plain": [
       "Text(0.5, 0, 'Expected Mortality')"
      ]
     },
     "execution_count": 304,
     "metadata": {},
     "output_type": "execute_result"
    },
    {
     "data": {
      "image/png": "[encoded data removed]",
      "text/plain": [
       "<Figure size 600x400 with 1 Axes>"
      ]
     },
     "metadata": {},
     "output_type": "display_data"
    }
   ],
   "source": [
    "expected_mortality_count = df_hosp['ReAdmissionRegistry'].groupby(['Service'])['ExpectedMortality'].sum().sort_values(ascending = False)\n",
    "sequential_palette = sns.color_palette(\"nipy_spectral\", len(expected_mortality_count))\n",
    "plt.figure(figsize = (6, 4))\n",
    "expected_mortality_count.plot(kind='barh', color = sequential_palette)\n",
    "plt.title(\"Total Expected Mortality per Services\")\n",
    "plt.xlabel('Expected Mortality')"
   ]
  },
  {
   "cell_type": "markdown",
   "id": "168fe7eb-5744-4860-8135-284e43c899e6",
   "metadata": {},
   "source": [
    "# 26. Using arrays and loops, find the count of patients based on gender."
   ]
  },
  {
   "cell_type": "code",
   "execution_count": null,
   "id": "efe41ddc-4a85-4080-8197-de4aa3253dfd",
   "metadata": {},
   "outputs": [],
   "source": []
  },
  {
   "cell_type": "markdown",
   "id": "8cd8cd3e-e6a1-4a64-a9ac-6ae3c62a8e6f",
   "metadata": {},
   "source": [
    "# 27. Which demographic patients are prone to get stroke?"
   ]
  },
  {
   "cell_type": "code",
   "execution_count": 162,
   "id": "9533fa50-86ec-4c6b-baa1-5a405381e340",
   "metadata": {
    "tags": []
   },
   "outputs": [
    {
     "name": "stdout",
     "output_type": "stream",
     "text": [
      "Black/African-Americans are more prone to get Stroke\n"
     ]
    }
   ],
   "source": [
    "# From ReAdmissionRegistry table\n",
    "filtered_df_hosp = df_hosp['ReAdmissionRegistry'][df_hosp['ReAdmissionRegistry']['PrimaryDiagnosis'] == \"Stroke\"]\n",
    "filtered_df_hosp = df_hosp['Patients'][(df_hosp['Patients'].PatientID.isin(filtered_df_hosp.PatientID))]\n",
    "print(filtered_df_hosp[\"Race\"].value_counts().idxmax() + \"s are more prone to get Stroke\")"
   ]
  },
  {
   "cell_type": "code",
   "execution_count": 191,
   "id": "6bf6a82b-771c-4eb5-8fbd-aec77697c95d",
   "metadata": {
    "tags": []
   },
   "outputs": [
    {
     "name": "stdout",
     "output_type": "stream",
     "text": [
      "Black/African-Americans are more prone to get Stroke\n"
     ]
    }
   ],
   "source": [
    "# From Discharges table\n",
    "filtered_df_hosp = df_hosp['Discharges'][df_hosp['Discharges']['PrimaryDiagnosis'] == \"Stroke\"]\n",
    "filtered_df_hosp = df_hosp['Patients'][(df_hosp['Patients'].PatientID.isin(filtered_df_hosp.PatientID))]\n",
    "print(filtered_df_hosp[\"Race\"].value_counts().idxmax() + \"s are more prone to get Stroke\")"
   ]
  },
  {
   "cell_type": "markdown",
   "id": "0cedd5e6-3b1b-44c0-a9f3-ba299a3360df",
   "metadata": {},
   "source": [
    "# 28. Details of the patients whose firstname or lastname contains string \"lau\" , should be case insensitive."
   ]
  },
  {
   "cell_type": "code",
   "execution_count": 298,
   "id": "f30c297c-79cf-49f7-96e8-c13861fcd05b",
   "metadata": {
    "tags": []
   },
   "outputs": [
    {
     "name": "stdout",
     "output_type": "stream",
     "text": [
      " PatientID FirstName  LastName             DateOfBirth Gender                   Race Language\n",
      "       283    Lauren    Gaskal 1962-05-08 01:54:00.111 Female Black/African-American  English\n",
      "       323    Lauren     Foort 1960-06-23 20:07:53.045 Female                  White  English\n",
      "       370    Zulauf Ellingham 1982-12-17 16:27:56.391 Female                  White  English\n",
      "       383    Zulauf       LLC 1969-03-16 07:48:49.338 Female                  White  English\n",
      "       455    Zulauf     Alvar 1961-10-02 08:24:17.334 Female                  White  English\n",
      "       464    Zulauf    Manske 1965-06-22 02:49:28.667 Female                  White  English\n",
      "       819    Zulauf  Bitcheno 1967-04-02 07:17:53.635 Female                  White  English\n",
      "       831    Zulauf O'Shavlan 1970-05-17 08:09:28.988 Female                  White  English\n",
      "       851     Lemmy   Klausen 1973-06-18 06:19:43.475 Female                  White  English\n",
      "       907  Jerrilyn   Klausen 1979-09-04 13:05:57.870   Male Black/African-American  English\n",
      "       911    Zulauf    Orbine 1973-06-26 03:13:50.449   Male Black/African-American  English\n"
     ]
    }
   ],
   "source": [
    "filtered_df_hosp = df_hosp['Patients'][df_hosp['Patients'].FirstName.str.contains(\"lau\", case=False) | df_hosp['Patients'].LastName.str.contains(\"lau\", case=False)]\n",
    "print(filtered_df_hosp.to_string(index = False))"
   ]
  },
  {
   "cell_type": "markdown",
   "id": "b2c595f6-5960-4090-8a19-90a225c67c16",
   "metadata": {},
   "source": [
    "# 29. Display full name of patients who are born in 1986."
   ]
  },
  {
   "cell_type": "code",
   "execution_count": 303,
   "id": "dee4775b-5cd6-4ae7-a6c6-c29d3415841a",
   "metadata": {
    "tags": []
   },
   "outputs": [
    {
     "name": "stdout",
     "output_type": "stream",
     "text": [
      "Patients born in 1986:\n",
      "    Gabriel  Joseph\n",
      "    Lincoln  Brenda\n",
      "        Ala Halpert\n",
      "       Lolita Darci\n",
      "     Fadel Bernardt\n",
      "     Bentley Kippax\n",
      "        Vale Olanda\n",
      "      Britt Dureden\n",
      "   Cristabel Chatel\n",
      "   Constantia Group\n",
      "   Morgan Scrowston\n",
      "         Dom Baglow\n",
      "    Ignazio Melling\n",
      "     Homenick Rings\n",
      "       Hashim Slark\n",
      "   Ellie Ramsbotham\n",
      "    Llewellyn Group\n",
      "         Niles Shaw\n",
      "         Yvette Inc\n",
      "      Siouxie Group\n",
      "        Carly Group\n",
      "    Worth Pickering\n",
      "       Arni Baldack\n",
      "   Kuvalis Coupland\n",
      "Rebbecca Rollingson\n",
      "        Wat Fideler\n"
     ]
    }
   ],
   "source": [
    "filtered_df_hosp = df_hosp['Patients'][(df_hosp['Patients'].DateOfBirth.dt.year == 1986)]\n",
    "print(\"Patients born in 1986:\")\n",
    "print((filtered_df_hosp['FirstName'] + ' ' + filtered_df_hosp['LastName']).to_string(index = False))"
   ]
  },
  {
   "cell_type": "markdown",
   "id": "6a52d91e-56a6-4638-ac9e-6c476eeae370",
   "metadata": {},
   "source": [
    "# 30. Retrieve the row with minimum DBP using sorting technique."
   ]
  },
  {
   "cell_type": "code",
   "execution_count": 184,
   "id": "347e8b67-5706-4bd8-b271-c9733c7934db",
   "metadata": {
    "tags": []
   },
   "outputs": [
    {
     "name": "stdout",
     "output_type": "stream",
     "text": [
      "VisitID                                          163\n",
      "PatientMRN                                       801\n",
      "ProviderID                                        11\n",
      "DateofVisit                      2019-02-08 00:00:00\n",
      "DateScheduled             2019-02-07 23:41:12.181000\n",
      "VisitDepartmentID                                  7\n",
      "VisitType                                  Follow Up\n",
      "BloodPressureSystolic                          120.0\n",
      "BloodPressureDiastolic                     51.695653\n",
      "Pulse                                      53.310495\n",
      "VisitStatus                                Completed\n",
      "Name: 0, dtype: object\n"
     ]
    }
   ],
   "source": [
    "for next_dbp in range(1, len(df_hosp['AmbulatoryVisits'])):\n",
    "    if df_hosp['AmbulatoryVisits']['BloodPressureDiastolic'].loc[0] > df_hosp['AmbulatoryVisits']['BloodPressureDiastolic'].loc[next_dbp]:\n",
    "        #Swap\n",
    "        df_hosp['AmbulatoryVisits'].loc[0], df_hosp['AmbulatoryVisits'].loc[next_dbp] = df_hosp['AmbulatoryVisits'].loc[next_dbp], df_hosp['AmbulatoryVisits'].loc[0]\n",
    "\n",
    "#Print the top most row containing the minimum DBP value        \n",
    "print(df_hosp['AmbulatoryVisits'].loc[0])            "
   ]
  },
  {
   "cell_type": "markdown",
   "id": "52db0c8c-919c-46d8-bbf7-0bd5cc2c0beb",
   "metadata": {},
   "source": [
    "# 31. Find the last name of the patients, by getting the first name from the user."
   ]
  },
  {
   "cell_type": "code",
   "execution_count": 214,
   "id": "fea172aa-b24a-4bab-bcb2-a91b75c79473",
   "metadata": {
    "tags": []
   },
   "outputs": [
    {
     "name": "stdout",
     "output_type": "stream",
     "text": [
      "Enter the patient's First Name: \n"
     ]
    },
    {
     "name": "stdin",
     "output_type": "stream",
     "text": [
      " lanni\n"
     ]
    },
    {
     "name": "stdout",
     "output_type": "stream",
     "text": [
      "0         Lanni Sue\n",
      "129    Lanni Angear\n",
      "dtype: object\n"
     ]
    }
   ],
   "source": [
    "print(\"Enter the patient's First Name: \")\n",
    "first_name = input()\n",
    "first_name_matching_row = df_hosp['Patients'][(df_hosp['Patients'].FirstName.str.contains(first_name, case=False))]\n",
    "print(first_name_matching_row.FirstName + \" \" + first_name_matching_row.LastName)"
   ]
  },
  {
   "cell_type": "markdown",
   "id": "c343a6f8-751a-4f3b-8965-931f5589b11f",
   "metadata": {},
   "source": [
    "# 32. Using loc , get the details of the providers where providerId is between 11 and 20 and ProviderSpecialty is Surgery."
   ]
  },
  {
   "cell_type": "code",
   "execution_count": 324,
   "id": "03a0dab9-5d4c-46a9-8ce9-739c989ae700",
   "metadata": {
    "tags": []
   },
   "outputs": [
    {
     "name": "stdout",
     "output_type": "stream",
     "text": [
      "    ProviderID     ProviderName ProviderSpecialty     ProviderDateOnStaff\n",
      "10          11     Kim Kimberly           Surgery 1998-05-10 14:47:29.468\n",
      "11          12         Sarah Ab           Surgery 1998-08-18 05:22:40.762\n",
      "12          13  Abigail Marriot           Surgery 1998-11-08 12:25:45.705\n",
      "13          14          Dave Yu           Surgery 1999-06-26 16:18:57.436\n",
      "14          15  Christian Saint           Surgery 2000-08-27 00:12:40.326\n",
      "15          16     Perry Pardon           Surgery 2001-02-13 11:49:17.862\n"
     ]
    }
   ],
   "source": [
    "providers = df_hosp['Providers']\n",
    "print(providers.loc[(providers['ProviderID'].between(11,20)) & (providers['ProviderSpecialty'] == \"Surgery\")])"
   ]
  },
  {
   "cell_type": "markdown",
   "id": "168fc412-0776-4730-a0f0-9827b01cbe9c",
   "metadata": {},
   "source": [
    "#### 33. Which reason of visit has maximum mortality rate."
   ]
  },
  {
   "cell_type": "code",
   "execution_count": null,
   "id": "fda0ea4b-525a-4936-8851-e77bfa9d3215",
   "metadata": {},
   "outputs": [],
   "source": []
  },
  {
   "cell_type": "markdown",
   "id": "fcd471f0-c479-4cf2-81ef-c455fb4c2c3e",
   "metadata": {},
   "source": [
    "# 34. Find the count of White Spanish Male."
   ]
  },
  {
   "cell_type": "code",
   "execution_count": 190,
   "id": "7d4c620e-0da0-4b83-ac93-6d1ccca127a8",
   "metadata": {
    "tags": []
   },
   "outputs": [
    {
     "name": "stdout",
     "output_type": "stream",
     "text": [
      "There are 15 White Spanish Male patients.\n"
     ]
    }
   ],
   "source": [
    "filtered_df_hosp = df_hosp['Patients'][(df_hosp['Patients']['Race'] == 'White') & (df_hosp['Patients']['Gender'] == 'Male') & (df_hosp['Patients']['Language'] == 'Spanish')]\n",
    "wite_spanish_male_count = filtered_df_hosp[['Race', 'Gender', 'Language']].value_counts().max()\n",
    "print(f\"There are {wite_spanish_male_count} White Spanish Male patients.\")"
   ]
  },
  {
   "cell_type": "markdown",
   "id": "8a329319-a2eb-4f1d-8363-98f35e98e94d",
   "metadata": {},
   "source": [
    "# 35. Create a jointplot on expected mortality & expected length of stay."
   ]
  },
  {
   "cell_type": "code",
   "execution_count": null,
   "id": "e65f7614-afeb-4bd4-86d9-13412b063511",
   "metadata": {},
   "outputs": [],
   "source": []
  },
  {
   "cell_type": "markdown",
   "id": "6024235a-3add-40b2-9184-cddb0ea8fa4d",
   "metadata": {},
   "source": [
    "# 36. Create a heat map on Readmission Registry table to find correlation between columns values."
   ]
  },
  {
   "cell_type": "code",
   "execution_count": null,
   "id": "9a1a0b10-80cc-46f3-acd0-133b4a74a6ae",
   "metadata": {},
   "outputs": [],
   "source": []
  },
  {
   "cell_type": "markdown",
   "id": "5857a190-850f-45dc-8a90-b8398120b844",
   "metadata": {},
   "source": [
    "# 37. Which PrimaryDiagnosis has the biggest difference between maximum and minimum Expected LOS?"
   ]
  },
  {
   "cell_type": "code",
   "execution_count": null,
   "id": "e9db21f7-969c-4684-817c-dc36cd14056f",
   "metadata": {},
   "outputs": [],
   "source": []
  },
  {
   "cell_type": "markdown",
   "id": "8233fbf4-15c7-4c0a-955a-8cd2c8052267",
   "metadata": {},
   "source": [
    "# 38. Mortality O:E"
   ]
  },
  {
   "cell_type": "code",
   "execution_count": 207,
   "id": "b2f923c9-3d66-4bff-ae5a-342ddc9f38d3",
   "metadata": {
    "tags": []
   },
   "outputs": [
    {
     "name": "stdout",
     "output_type": "stream",
     "text": [
      "243.40526924839037\n"
     ]
    }
   ],
   "source": [
    "# table Discharges\n",
    "filtered_df_hosp = df_hosp['Discharges'][(df_hosp['Discharges']['DischargeDisposition'] == 'Expired')]\n",
    "observed_mortality = filtered_df_hosp.shape[0]\n",
    "sum_of_expected_mortality = df_hosp['Discharges']['ExpectedMortality'].sum()\n",
    "print(sum_of_expected_mortality)"
   ]
  },
  {
   "cell_type": "markdown",
   "id": "28d419ab-a6e2-48a8-a597-e160c8b71cbe",
   "metadata": {},
   "source": [
    "# 39. \"Create a figure object called fig using plt.figure()\n",
    "# ** Use add_axes to add an axis to the figure canvas at [0,0,1,1]. Call this new axis ax.\n",
    "# ** Plot (x,y) on that axes and set the labels.\n",
    "# Note : You can plot on any x,y set of values.\""
   ]
  },
  {
   "cell_type": "code",
   "execution_count": null,
   "id": "224837f3-2aff-48f7-93b4-72e27a1811fa",
   "metadata": {},
   "outputs": [],
   "source": []
  },
  {
   "cell_type": "markdown",
   "id": "262af027-8a81-4caa-90f2-466b4edf134c",
   "metadata": {},
   "source": [
    "# 40. Show the records where the ExpectedLos is greater than the difference between the max and min ExpectedLos."
   ]
  },
  {
   "cell_type": "code",
   "execution_count": null,
   "id": "a0a64ca8-e2a6-4c99-acba-3f798e7b6ebe",
   "metadata": {},
   "outputs": [],
   "source": []
  }
 ],
 "metadata": {
  "kernelspec": {
   "display_name": "Python 3 (ipykernel)",
   "language": "python",
   "name": "python3"
  },
  "language_info": {
   "codemirror_mode": {
    "name": "ipython",
    "version": 3
   },
   "file_extension": ".py",
   "mimetype": "text/x-python",
   "name": "python",
   "nbconvert_exporter": "python",
   "pygments_lexer": "ipython3",
   "version": "3.11.3"
  }
 },
 "nbformat": 4,
 "nbformat_minor": 5
}
