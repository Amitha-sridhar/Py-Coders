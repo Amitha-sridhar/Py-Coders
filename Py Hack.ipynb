{
 "cells": [
  {
   "cell_type": "code",
   "execution_count": 4,
   "id": "aa32044e",
   "metadata": {},
   "outputs": [],
   "source": [
    "import pandas as pd\n",
    "import numpy as np"
   ]
  },
  {
   "cell_type": "code",
   "execution_count": 5,
   "id": "50007a85",
   "metadata": {},
   "outputs": [],
   "source": [
    "df_hosp = pd.read_excel('HospitalDatabase.xlsx',sheet_name = None)"
   ]
  },
  {
   "cell_type": "markdown",
   "id": "09b00857",
   "metadata": {},
   "source": [
    "# 21. Find reasonForVisit with highest count of acuity 5 patients."
   ]
  },
  {
   "cell_type": "code",
   "execution_count": 6,
   "id": "65fdbf6a",
   "metadata": {},
   "outputs": [
    {
     "name": "stdout",
     "output_type": "stream",
     "text": [
      "Chest Pain with 61 visits.\n"
     ]
    }
   ],
   "source": [
    "filtered_df_hosp = df_hosp['EDVisits'].query(\"Acuity == 5\")\n",
    "print(filtered_df_hosp['ReasonForVisit'].value_counts().idxmax() + ' with ' + str(filtered_df_hosp['ReasonForVisit'].value_counts().max()) + ' visits.')"
   ]
  },
  {
   "cell_type": "code",
   "execution_count": 7,
   "id": "42eab3a9",
   "metadata": {},
   "outputs": [
    {
     "name": "stdout",
     "output_type": "stream",
     "text": [
      "      EDVisitID  PatientID               VisitDate         EDDischargeTime  \\\n",
      "7            18         18 2020-01-01 04:39:40.091 2020-01-02 03:25:07.379   \n",
      "8            19         19 2020-01-01 04:56:11.608 2020-01-02 04:31:45.968   \n",
      "9            26         26 2020-01-01 06:14:46.240 2020-01-01 15:34:00.868   \n",
      "10           27         27 2020-01-01 06:27:42.483 2020-01-01 18:30:35.922   \n",
      "17           45         45 2020-01-01 11:53:16.342 2020-01-01 21:20:18.854   \n",
      "...         ...        ...                     ...                     ...   \n",
      "1075        979        725 2020-01-13 01:52:00.052 2020-01-14 01:51:32.779   \n",
      "1116       1050        796 2020-01-13 21:48:34.838 2020-01-14 10:25:44.839   \n",
      "1117       1051        797 2020-01-13 22:13:47.779 2020-01-14 06:39:37.586   \n",
      "1171       1147        893 2020-01-14 23:04:58.584 2020-01-15 09:56:39.625   \n",
      "1172       1148        894 2020-01-14 23:31:17.382 2020-01-15 07:31:45.241   \n",
      "\n",
      "      Acuity       ReasonForVisit EDDisposition  \n",
      "7          5         Car Accident      Admitted  \n",
      "8          5           Chest Pain      Admitted  \n",
      "9          5           Chest Pain      Admitted  \n",
      "10         5           Chest Pain      Admitted  \n",
      "17         5  Shortness of Breath      Admitted  \n",
      "...      ...                  ...           ...  \n",
      "1075       5  Shortness of Breath    Discharged  \n",
      "1116       5  Shortness of Breath    Discharged  \n",
      "1117       5  Shortness of Breath    Discharged  \n",
      "1171       5  Shortness of Breath    Discharged  \n",
      "1172       5  Shortness of Breath    Discharged  \n",
      "\n",
      "[209 rows x 7 columns]\n"
     ]
    }
   ],
   "source": [
    "filtered_df_hosp = df_hosp['EDVisits'].query(\"Acuity == 5\")\n",
    "print(filtered_df_hosp)"
   ]
  },
  {
   "cell_type": "code",
   "execution_count": null,
   "id": "8d352e99",
   "metadata": {},
   "outputs": [],
   "source": []
  },
  {
   "cell_type": "code",
   "execution_count": null,
   "id": "0949fc1e-a379-4d50-947f-2b53e82d3851",
   "metadata": {},
   "outputs": [],
   "source": []
  }
 ],
 "metadata": {
  "kernelspec": {
   "display_name": "Python 3 (ipykernel)",
   "language": "python",
   "name": "python3"
  },
  "language_info": {
   "codemirror_mode": {
    "name": "ipython",
    "version": 3
   },
   "file_extension": ".py",
   "mimetype": "text/x-python",
   "name": "python",
   "nbconvert_exporter": "python",
   "pygments_lexer": "ipython3",
   "version": "3.9.13"
  }
 },
 "nbformat": 4,
 "nbformat_minor": 5
}
